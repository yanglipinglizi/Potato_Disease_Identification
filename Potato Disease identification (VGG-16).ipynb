{
 "cells": [
  {
   "metadata": {},
   "cell_type": "markdown",
   "source": "# Potato disease identification (VGG-16)",
   "id": "4967aee95a23974f"
  },
  {
   "metadata": {},
   "cell_type": "markdown",
   "source": "## I.Prepocessing",
   "id": "45d8231e023fb63c"
  },
  {
   "metadata": {},
   "cell_type": "markdown",
   "source": "#### 1. GPU/CPU Setting",
   "id": "b44d8dd25f8d742f"
  },
  {
   "cell_type": "code",
   "id": "initial_id",
   "metadata": {
    "collapsed": true,
    "ExecuteTime": {
     "end_time": "2024-08-02T17:06:52.668501Z",
     "start_time": "2024-08-02T17:05:55.130672Z"
    }
   },
   "source": [
    "import torch\n",
    "import torch.nn as nn\n",
    "import torchvision.transforms as transforms\n",
    "import torchvision\n",
    "from torchvision import transforms, datasets\n",
    "import os,PIL,pathlib,warnings\n",
    "\n",
    "warnings.filterwarnings(\"ignore\")             \n",
    "\n",
    "device = torch.device(\"cuda\" if torch.cuda.is_available() else \"cpu\")\n",
    "device"
   ],
   "outputs": [
    {
     "data": {
      "text/plain": [
       "device(type='cpu')"
      ]
     },
     "execution_count": 1,
     "metadata": {},
     "output_type": "execute_result"
    }
   ],
   "execution_count": 1
  },
  {
   "metadata": {},
   "cell_type": "markdown",
   "source": "#### 2. Data Load",
   "id": "8be301296ac550c"
  },
  {
   "metadata": {
    "ExecuteTime": {
     "end_time": "2024-08-02T17:07:10.239868Z",
     "start_time": "2024-08-02T17:07:10.234249Z"
    }
   },
   "cell_type": "code",
   "source": [
    "import os,PIL,random,pathlib\n",
    "\n",
    "data_dir = './PotatoPlants/'\n",
    "data_dir = pathlib.Path(data_dir)\n",
    "\n",
    "data_paths  = list(data_dir.glob('*')) \n",
    "classeNames = [path.name for path in data_paths if path.is_dir()]\n",
    "classeNames"
   ],
   "id": "b8ca85f0ade910c6",
   "outputs": [
    {
     "data": {
      "text/plain": [
       "['Late_blight', 'healthy', 'Early_blight']"
      ]
     },
     "execution_count": 2,
     "metadata": {},
     "output_type": "execute_result"
    }
   ],
   "execution_count": 2
  },
  {
   "metadata": {
    "ExecuteTime": {
     "end_time": "2024-08-02T17:07:11.750408Z",
     "start_time": "2024-08-02T17:07:11.723523Z"
    }
   },
   "cell_type": "code",
   "source": [
    "train_transforms = transforms.Compose([\n",
    "    transforms.Resize([224, 224]),  # Resize the input images to a uniform size\n",
    "    # transforms.RandomHorizontalFlip(), # Randomly flip the images horizontally\n",
    "    transforms.ToTensor(),          # Normalize to [0,1]\n",
    "    transforms.Normalize(           # Standardization  \n",
    "        mean=[0.485, 0.456, 0.406], \n",
    "        std=[0.229, 0.224, 0.225])  # The mean and std are calculated by randomly sampling from the dataset.\n",
    "])\n",
    "\n",
    "test_transform = transforms.Compose([\n",
    "    transforms.Resize([224, 224]),  # Resize the input images to a uniform size\n",
    "    transforms.ToTensor(),          # Normalize to [0,1]\n",
    "    transforms.Normalize(           # Standardization \n",
    "        mean=[0.485, 0.456, 0.406], \n",
    "        std=[0.229, 0.224, 0.225])  # The mean and std are calculated by randomly sampling from the dataset.\n",
    "])\n",
    "\n",
    "total_data = datasets.ImageFolder(\"./PotatoPlants/\", transform=train_transforms)\n",
    "total_data"
   ],
   "id": "1eaf127f993c4398",
   "outputs": [
    {
     "data": {
      "text/plain": [
       "Dataset ImageFolder\n",
       "    Number of datapoints: 2152\n",
       "    Root location: ./PotatoPlants/\n",
       "    StandardTransform\n",
       "Transform: Compose(\n",
       "               Resize(size=[224, 224], interpolation=bilinear, max_size=None, antialias=True)\n",
       "               ToTensor()\n",
       "               Normalize(mean=[0.485, 0.456, 0.406], std=[0.229, 0.224, 0.225])\n",
       "           )"
      ]
     },
     "execution_count": 3,
     "metadata": {},
     "output_type": "execute_result"
    }
   ],
   "execution_count": 3
  },
  {
   "metadata": {
    "ExecuteTime": {
     "end_time": "2024-08-02T17:07:13.579308Z",
     "start_time": "2024-08-02T17:07:13.575129Z"
    }
   },
   "cell_type": "code",
   "source": "total_data.class_to_idx",
   "id": "de3fa3978e3744a8",
   "outputs": [
    {
     "data": {
      "text/plain": [
       "{'Early_blight': 0, 'Late_blight': 1, 'healthy': 2}"
      ]
     },
     "execution_count": 4,
     "metadata": {},
     "output_type": "execute_result"
    }
   ],
   "execution_count": 4
  },
  {
   "metadata": {},
   "cell_type": "markdown",
   "source": "#### 3. Data Split",
   "id": "b076aece042e5a9d"
  },
  {
   "metadata": {
    "ExecuteTime": {
     "end_time": "2024-08-02T17:07:16.775671Z",
     "start_time": "2024-08-02T17:07:16.764753Z"
    }
   },
   "cell_type": "code",
   "source": [
    "train_size = int(0.8 * len(total_data))\n",
    "test_size  = len(total_data) - train_size\n",
    "train_dataset, test_dataset = torch.utils.data.random_split(total_data, [train_size, test_size])\n",
    "train_dataset, test_dataset"
   ],
   "id": "5d381e1896656f5f",
   "outputs": [
    {
     "data": {
      "text/plain": [
       "(<torch.utils.data.dataset.Subset at 0x7f8ff8ce0d60>,\n",
       " <torch.utils.data.dataset.Subset at 0x7f8ff8cc1cd0>)"
      ]
     },
     "execution_count": 5,
     "metadata": {},
     "output_type": "execute_result"
    }
   ],
   "execution_count": 5
  },
  {
   "metadata": {
    "ExecuteTime": {
     "end_time": "2024-08-02T17:07:18.888245Z",
     "start_time": "2024-08-02T17:07:18.883495Z"
    }
   },
   "cell_type": "code",
   "source": [
    "batch_size = 32\n",
    "\n",
    "train_dl = torch.utils.data.DataLoader(train_dataset,\n",
    "                                           batch_size=batch_size,\n",
    "                                           shuffle=True,\n",
    "                                           num_workers=1)\n",
    "test_dl = torch.utils.data.DataLoader(test_dataset,\n",
    "                                          batch_size=batch_size,\n",
    "                                          shuffle=True,\n",
    "                                          num_workers=1)"
   ],
   "id": "45b3607028f4215a",
   "outputs": [],
   "execution_count": 6
  },
  {
   "metadata": {
    "ExecuteTime": {
     "end_time": "2024-08-02T17:07:29.229859Z",
     "start_time": "2024-08-02T17:07:20.830458Z"
    }
   },
   "cell_type": "code",
   "source": [
    "for X, y in test_dl:\n",
    "    print(\"Shape of X [N, C, H, W]: \", X.shape)\n",
    "    print(\"Shape of y: \", y.shape, y.dtype)\n",
    "    break"
   ],
   "id": "40f6f199d2f98549",
   "outputs": [
    {
     "name": "stdout",
     "output_type": "stream",
     "text": [
      "Shape of X [N, C, H, W]:  torch.Size([32, 3, 224, 224])\n",
      "Shape of y:  torch.Size([32]) torch.int64\n"
     ]
    }
   ],
   "execution_count": 7
  },
  {
   "metadata": {},
   "cell_type": "markdown",
   "source": "## II. Manually Building the VGG-16 Mode",
   "id": "b174b2c86d32a611"
  },
  {
   "metadata": {},
   "cell_type": "markdown",
   "source": [
    "### VGG-16 Structure Explanation:\n",
    "- 13 Convolutional Layers, denoted as `blockX_convX`\n",
    "- 3 Fully Connected Layers, denoted as `fcX` and `predictions`\n",
    "- 5 Pooling Layers, denoted as `blockX_pool`"
   ],
   "id": "6e72721f885bbdc0"
  },
  {
   "metadata": {},
   "cell_type": "markdown",
   "source": "![VGG-16 Architecture](https://neurohive.io/wp-content/uploads/2018/11/vgg16-neural-network.jpg)",
   "id": "ce61548621753961"
  },
  {
   "metadata": {},
   "cell_type": "markdown",
   "source": "#### 1. Build the model",
   "id": "45348ded105f5d27"
  },
  {
   "metadata": {
    "ExecuteTime": {
     "end_time": "2024-08-02T17:07:42.350430Z",
     "start_time": "2024-08-02T17:07:41.785648Z"
    }
   },
   "cell_type": "code",
   "source": [
    "import torch\n",
    "import torch.nn as nn\n",
    "import torch.nn.functional as F\n",
    "\n",
    "class VGG16(nn.Module):\n",
    "    def __init__(self):\n",
    "        super(VGG16, self).__init__()\n",
    "        # Convolutional Block 1\n",
    "        self.block1 = nn.Sequential(\n",
    "            nn.Conv2d(3, 64, kernel_size=(3, 3), stride=(1, 1), padding=(1, 1)),\n",
    "            nn.ReLU(),\n",
    "            nn.Conv2d(64, 64, kernel_size=(3, 3), stride=(1, 1), padding=(1, 1)),\n",
    "            nn.ReLU(),\n",
    "            nn.MaxPool2d(kernel_size=(2, 2), stride=(2, 2))\n",
    "        )\n",
    "        # Convolutional Block 2\n",
    "        self.block2 = nn.Sequential(\n",
    "            nn.Conv2d(64, 128, kernel_size=(3, 3), stride=(1, 1), padding=(1, 1)),\n",
    "            nn.ReLU(),\n",
    "            nn.Conv2d(128, 128, kernel_size=(3, 3), stride=(1, 1), padding=(1, 1)),\n",
    "            nn.ReLU(),\n",
    "            nn.MaxPool2d(kernel_size=(2, 2), stride=(2, 2))\n",
    "        )\n",
    "        # Convolutional Block 3\n",
    "        self.block3 = nn.Sequential(\n",
    "            nn.Conv2d(128, 256, kernel_size=(3, 3), stride=(1, 1), padding=(1, 1)),\n",
    "            nn.ReLU(),\n",
    "            nn.Conv2d(256, 256, kernel_size=(3, 3), stride=(1, 1), padding=(1, 1)),\n",
    "            nn.ReLU(),\n",
    "            nn.Conv2d(256, 256, kernel_size=(3, 3), stride=(1, 1), padding=(1, 1)),\n",
    "            nn.ReLU(),\n",
    "            nn.MaxPool2d(kernel_size=(2, 2), stride=(2, 2))\n",
    "        )\n",
    "        # Convolutional Block 4\n",
    "        self.block4 = nn.Sequential(\n",
    "            nn.Conv2d(256, 512, kernel_size=(3, 3), stride=(1, 1), padding=(1, 1)),\n",
    "            nn.ReLU(),\n",
    "            nn.Conv2d(512, 512, kernel_size=(3, 3), stride=(1, 1), padding=(1, 1)),\n",
    "            nn.ReLU(),\n",
    "            nn.Conv2d(512, 512, kernel_size=(3, 3), stride=(1, 1), padding=(1, 1)),\n",
    "            nn.ReLU(),\n",
    "            nn.MaxPool2d(kernel_size=(2, 2), stride=(2, 2))\n",
    "        )\n",
    "        # Convolutional Block 5\n",
    "        self.block5 = nn.Sequential(\n",
    "            nn.Conv2d(512, 512, kernel_size=(3, 3), stride=(1, 1), padding=(1, 1)),\n",
    "            nn.ReLU(),\n",
    "            nn.Conv2d(512, 512, kernel_size=(3, 3), stride=(1, 1), padding=(1, 1)),\n",
    "            nn.ReLU(),\n",
    "            nn.Conv2d(512, 512, kernel_size=(3, 3), stride=(1, 1), padding=(1, 1)),\n",
    "            nn.ReLU(),\n",
    "            nn.MaxPool2d(kernel_size=(2, 2), stride=(2, 2))\n",
    "        )\n",
    "      \n",
    "        # Fully connected layers for classification\n",
    "        self.classifier = nn.Sequential(\n",
    "            nn.Linear(in_features=512*7*7, out_features=4096),\n",
    "            nn.ReLU(),\n",
    "            nn.Linear(in_features=4096, out_features=4096),\n",
    "            nn.ReLU(),\n",
    "            nn.Linear(in_features=4096, out_features=3)\n",
    "        )\n",
    "\n",
    "    def forward(self, x):\n",
    "        x = self.block1(x)\n",
    "        x = self.block2(x)\n",
    "        x = self.block3(x)\n",
    "        x = self.block4(x)\n",
    "        x = self.block5(x)\n",
    "        x = torch.flatten(x, start_dim=1)\n",
    "        x = self.classifier(x)\n",
    "        return x\n",
    "\n",
    "device = \"cuda\" if torch.cuda.is_available() else \"cpu\"\n",
    "print(\"Using {} device\".format(device))\n",
    "  \n",
    "model = VGG16().to(device)\n",
    "model"
   ],
   "id": "f1f71510c666b340",
   "outputs": [
    {
     "name": "stdout",
     "output_type": "stream",
     "text": [
      "Using cpu device\n"
     ]
    },
    {
     "data": {
      "text/plain": [
       "VGG16(\n",
       "  (block1): Sequential(\n",
       "    (0): Conv2d(3, 64, kernel_size=(3, 3), stride=(1, 1), padding=(1, 1))\n",
       "    (1): ReLU()\n",
       "    (2): Conv2d(64, 64, kernel_size=(3, 3), stride=(1, 1), padding=(1, 1))\n",
       "    (3): ReLU()\n",
       "    (4): MaxPool2d(kernel_size=(2, 2), stride=(2, 2), padding=0, dilation=1, ceil_mode=False)\n",
       "  )\n",
       "  (block2): Sequential(\n",
       "    (0): Conv2d(64, 128, kernel_size=(3, 3), stride=(1, 1), padding=(1, 1))\n",
       "    (1): ReLU()\n",
       "    (2): Conv2d(128, 128, kernel_size=(3, 3), stride=(1, 1), padding=(1, 1))\n",
       "    (3): ReLU()\n",
       "    (4): MaxPool2d(kernel_size=(2, 2), stride=(2, 2), padding=0, dilation=1, ceil_mode=False)\n",
       "  )\n",
       "  (block3): Sequential(\n",
       "    (0): Conv2d(128, 256, kernel_size=(3, 3), stride=(1, 1), padding=(1, 1))\n",
       "    (1): ReLU()\n",
       "    (2): Conv2d(256, 256, kernel_size=(3, 3), stride=(1, 1), padding=(1, 1))\n",
       "    (3): ReLU()\n",
       "    (4): Conv2d(256, 256, kernel_size=(3, 3), stride=(1, 1), padding=(1, 1))\n",
       "    (5): ReLU()\n",
       "    (6): MaxPool2d(kernel_size=(2, 2), stride=(2, 2), padding=0, dilation=1, ceil_mode=False)\n",
       "  )\n",
       "  (block4): Sequential(\n",
       "    (0): Conv2d(256, 512, kernel_size=(3, 3), stride=(1, 1), padding=(1, 1))\n",
       "    (1): ReLU()\n",
       "    (2): Conv2d(512, 512, kernel_size=(3, 3), stride=(1, 1), padding=(1, 1))\n",
       "    (3): ReLU()\n",
       "    (4): Conv2d(512, 512, kernel_size=(3, 3), stride=(1, 1), padding=(1, 1))\n",
       "    (5): ReLU()\n",
       "    (6): MaxPool2d(kernel_size=(2, 2), stride=(2, 2), padding=0, dilation=1, ceil_mode=False)\n",
       "  )\n",
       "  (block5): Sequential(\n",
       "    (0): Conv2d(512, 512, kernel_size=(3, 3), stride=(1, 1), padding=(1, 1))\n",
       "    (1): ReLU()\n",
       "    (2): Conv2d(512, 512, kernel_size=(3, 3), stride=(1, 1), padding=(1, 1))\n",
       "    (3): ReLU()\n",
       "    (4): Conv2d(512, 512, kernel_size=(3, 3), stride=(1, 1), padding=(1, 1))\n",
       "    (5): ReLU()\n",
       "    (6): MaxPool2d(kernel_size=(2, 2), stride=(2, 2), padding=0, dilation=1, ceil_mode=False)\n",
       "  )\n",
       "  (classifier): Sequential(\n",
       "    (0): Linear(in_features=25088, out_features=4096, bias=True)\n",
       "    (1): ReLU()\n",
       "    (2): Linear(in_features=4096, out_features=4096, bias=True)\n",
       "    (3): ReLU()\n",
       "    (4): Linear(in_features=4096, out_features=3, bias=True)\n",
       "  )\n",
       ")"
      ]
     },
     "execution_count": 8,
     "metadata": {},
     "output_type": "execute_result"
    }
   ],
   "execution_count": 8
  },
  {
   "metadata": {},
   "cell_type": "markdown",
   "source": "#### 2. Check model details",
   "id": "fa5e95d13715757a"
  },
  {
   "metadata": {
    "ExecuteTime": {
     "end_time": "2024-08-02T17:08:11.339039Z",
     "start_time": "2024-08-02T17:08:09.596822Z"
    }
   },
   "cell_type": "code",
   "source": [
    "# Count the number of model parameters and other metrics\n",
    "import torchsummary as summary\n",
    "summary.summary(model, (3, 224, 224))"
   ],
   "id": "70100ae77dae190d",
   "outputs": [
    {
     "name": "stdout",
     "output_type": "stream",
     "text": [
      "----------------------------------------------------------------\n",
      "        Layer (type)               Output Shape         Param #\n",
      "================================================================\n",
      "            Conv2d-1         [-1, 64, 224, 224]           1,792\n",
      "              ReLU-2         [-1, 64, 224, 224]               0\n",
      "            Conv2d-3         [-1, 64, 224, 224]          36,928\n",
      "              ReLU-4         [-1, 64, 224, 224]               0\n",
      "         MaxPool2d-5         [-1, 64, 112, 112]               0\n",
      "            Conv2d-6        [-1, 128, 112, 112]          73,856\n",
      "              ReLU-7        [-1, 128, 112, 112]               0\n",
      "            Conv2d-8        [-1, 128, 112, 112]         147,584\n",
      "              ReLU-9        [-1, 128, 112, 112]               0\n",
      "        MaxPool2d-10          [-1, 128, 56, 56]               0\n",
      "           Conv2d-11          [-1, 256, 56, 56]         295,168\n",
      "             ReLU-12          [-1, 256, 56, 56]               0\n",
      "           Conv2d-13          [-1, 256, 56, 56]         590,080\n",
      "             ReLU-14          [-1, 256, 56, 56]               0\n",
      "           Conv2d-15          [-1, 256, 56, 56]         590,080\n",
      "             ReLU-16          [-1, 256, 56, 56]               0\n",
      "        MaxPool2d-17          [-1, 256, 28, 28]               0\n",
      "           Conv2d-18          [-1, 512, 28, 28]       1,180,160\n",
      "             ReLU-19          [-1, 512, 28, 28]               0\n",
      "           Conv2d-20          [-1, 512, 28, 28]       2,359,808\n",
      "             ReLU-21          [-1, 512, 28, 28]               0\n",
      "           Conv2d-22          [-1, 512, 28, 28]       2,359,808\n",
      "             ReLU-23          [-1, 512, 28, 28]               0\n",
      "        MaxPool2d-24          [-1, 512, 14, 14]               0\n",
      "           Conv2d-25          [-1, 512, 14, 14]       2,359,808\n",
      "             ReLU-26          [-1, 512, 14, 14]               0\n",
      "           Conv2d-27          [-1, 512, 14, 14]       2,359,808\n",
      "             ReLU-28          [-1, 512, 14, 14]               0\n",
      "           Conv2d-29          [-1, 512, 14, 14]       2,359,808\n",
      "             ReLU-30          [-1, 512, 14, 14]               0\n",
      "        MaxPool2d-31            [-1, 512, 7, 7]               0\n",
      "           Linear-32                 [-1, 4096]     102,764,544\n",
      "             ReLU-33                 [-1, 4096]               0\n",
      "           Linear-34                 [-1, 4096]      16,781,312\n",
      "             ReLU-35                 [-1, 4096]               0\n",
      "           Linear-36                    [-1, 3]          12,291\n",
      "================================================================\n",
      "Total params: 134,272,835\n",
      "Trainable params: 134,272,835\n",
      "Non-trainable params: 0\n",
      "----------------------------------------------------------------\n",
      "Input size (MB): 0.57\n",
      "Forward/backward pass size (MB): 218.52\n",
      "Params size (MB): 512.21\n",
      "Estimated Total Size (MB): 731.30\n",
      "----------------------------------------------------------------\n"
     ]
    }
   ],
   "execution_count": 10
  },
  {
   "metadata": {},
   "cell_type": "markdown",
   "source": "## II. Train the model",
   "id": "525f5a762ddf40bc"
  },
  {
   "metadata": {},
   "cell_type": "markdown",
   "source": "#### 1. Write a training function",
   "id": "9af366e901cfe0a3"
  },
  {
   "metadata": {
    "ExecuteTime": {
     "end_time": "2024-08-02T17:08:15.426950Z",
     "start_time": "2024-08-02T17:08:15.418069Z"
    }
   },
   "cell_type": "code",
   "source": [
    "# Training loop\n",
    "def train(dataloader, model, loss_fn, optimizer):\n",
    "    size = len(dataloader.dataset)  # Size of the training dataset\n",
    "    num_batches = len(dataloader)   # Number of batches (size/batch_size, rounded up)\n",
    "\n",
    "    train_loss, train_acc = 0, 0  # Initialize training loss and accuracy\n",
    "  \n",
    "    for X, y in dataloader:  # Get images and their labels\n",
    "        X, y = X.to(device), y.to(device)\n",
    "      \n",
    "        # Compute prediction and loss\n",
    "        pred = model(X)          # Model output\n",
    "        loss = loss_fn(pred, y)  # Calculate the difference between the model output and the true values (targets), the difference is the loss\n",
    "      \n",
    "        # Backpropagation\n",
    "        optimizer.zero_grad()  # Zero the gradients\n",
    "        loss.backward()        # Backward pass\n",
    "        optimizer.step()       # Update the model parameters\n",
    "      \n",
    "        # Record accuracy and loss\n",
    "        train_acc  += (pred.argmax(1) == y).type(torch.float).sum().item()\n",
    "        train_loss += loss.item()\n",
    "          \n",
    "    train_acc  /= size\n",
    "    train_loss /= num_batches\n",
    "\n",
    "    return train_acc, train_loss"
   ],
   "id": "abcd5d615e0d476",
   "outputs": [],
   "execution_count": 11
  },
  {
   "metadata": {},
   "cell_type": "markdown",
   "source": "#### 2.Write the Test Function",
   "id": "641cf231b699e48d"
  },
  {
   "metadata": {},
   "cell_type": "markdown",
   "source": [
    "The test function is similar to the training function; \n",
    "however, since gradient descent is not performed to update the network weights, there is no need to pass in the optimizer."
   ],
   "id": "e0c0098e9d358f06"
  },
  {
   "metadata": {
    "ExecuteTime": {
     "end_time": "2024-08-02T17:08:18.670263Z",
     "start_time": "2024-08-02T17:08:18.662335Z"
    }
   },
   "cell_type": "code",
   "source": [
    "def test(dataloader, model, loss_fn):\n",
    "    size        = len(dataloader.dataset)  # Size of the test dataset\n",
    "    num_batches = len(dataloader)          # Number of batches (size/batch_size, rounded up)\n",
    "    test_loss, test_acc = 0, 0\n",
    "\n",
    "    # Disable gradient updates to save computation and memory during testing\n",
    "    with torch.no_grad():\n",
    "        for imgs, target in dataloader:\n",
    "            imgs, target = imgs.to(device), target.to(device)\n",
    "\n",
    "            # Compute loss\n",
    "            target_pred = model(imgs)\n",
    "            loss        = loss_fn(target_pred, target)\n",
    "\n",
    "            test_loss += loss.item()\n",
    "            test_acc  += (target_pred.argmax(1) == target).type(torch.float).sum().item()\n",
    "\n",
    "    test_acc  /= size\n",
    "    test_loss /= num_batches\n",
    "\n",
    "    return test_acc, test_loss"
   ],
   "id": "743ccecb6f55bff1",
   "outputs": [],
   "execution_count": 12
  },
  {
   "metadata": {},
   "cell_type": "markdown",
   "source": "### 3. Training",
   "id": "f57f87148aae6eb9"
  },
  {
   "metadata": {
    "ExecuteTime": {
     "end_time": "2024-08-02T17:20:02.603930Z",
     "start_time": "2024-08-02T17:08:20.860086Z"
    }
   },
   "cell_type": "code",
   "source": [
    "import copy\n",
    "\n",
    "optimizer  = torch.optim.Adam(model.parameters(), lr=1e-4)  # Create the Adam optimizer\n",
    "loss_fn    = nn.CrossEntropyLoss()  # Create the loss function\n",
    "\n",
    "epochs     = 40\n",
    "\n",
    "train_loss = []\n",
    "train_acc  = []\n",
    "test_loss  = []\n",
    "test_acc   = []\n",
    "\n",
    "best_acc = 0  # Initialize the best accuracy for model selection\n",
    "\n",
    "for epoch in range(epochs):\n",
    "  \n",
    "    model.train()  # Set the model to training mode\n",
    "    epoch_train_acc, epoch_train_loss = train(train_dl, model, loss_fn, optimizer)\n",
    "  \n",
    "    model.eval()  # Set the model to evaluation mode\n",
    "    epoch_test_acc, epoch_test_loss = test(test_dl, model, loss_fn)\n",
    "  \n",
    "    # Save the best model to best_model\n",
    "    if epoch_test_acc > best_acc:\n",
    "        best_acc   = epoch_test_acc\n",
    "        best_model = copy.deepcopy(model)\n",
    "  \n",
    "    train_acc.append(epoch_train_acc)\n",
    "    train_loss.append(epoch_train_loss)\n",
    "    test_acc.append(epoch_test_acc)\n",
    "    test_loss.append(epoch_test_loss)\n",
    "  \n",
    "    # Get the current learning rate\n",
    "    lr = optimizer.state_dict()['param_groups'][0]['lr']\n",
    "  \n",
    "    template = ('Epoch:{:2d}, Train_acc:{:.1f}%, Train_loss:{:.3f}, Test_acc:{:.1f}%, Test_loss:{:.3f}, Lr:{:.2E}')\n",
    "    print(template.format(epoch+1, epoch_train_acc*100, epoch_train_loss, \n",
    "                          epoch_test_acc*100, epoch_test_loss, lr))\n",
    "  \n",
    "# Save the best model to a file\n",
    "PATH = './best_model.pth'  # Filename for the saved parameters\n",
    "torch.save(model.state_dict(), PATH)\n",
    "\n",
    "print('Done')"
   ],
   "id": "183e549976039527",
   "outputs": [
    {
     "ename": "KeyboardInterrupt",
     "evalue": "",
     "output_type": "error",
     "traceback": [
      "\u001B[0;31m---------------------------------------------------------------------------\u001B[0m",
      "\u001B[0;31mKeyboardInterrupt\u001B[0m                         Traceback (most recent call last)",
      "Cell \u001B[0;32mIn[13], line 18\u001B[0m\n\u001B[1;32m     15\u001B[0m \u001B[38;5;28;01mfor\u001B[39;00m epoch \u001B[38;5;129;01min\u001B[39;00m \u001B[38;5;28mrange\u001B[39m(epochs):\n\u001B[1;32m     17\u001B[0m     model\u001B[38;5;241m.\u001B[39mtrain()  \u001B[38;5;66;03m# Set the model to training mode\u001B[39;00m\n\u001B[0;32m---> 18\u001B[0m     epoch_train_acc, epoch_train_loss \u001B[38;5;241m=\u001B[39m \u001B[43mtrain\u001B[49m\u001B[43m(\u001B[49m\u001B[43mtrain_dl\u001B[49m\u001B[43m,\u001B[49m\u001B[43m \u001B[49m\u001B[43mmodel\u001B[49m\u001B[43m,\u001B[49m\u001B[43m \u001B[49m\u001B[43mloss_fn\u001B[49m\u001B[43m,\u001B[49m\u001B[43m \u001B[49m\u001B[43moptimizer\u001B[49m\u001B[43m)\u001B[49m\n\u001B[1;32m     20\u001B[0m     model\u001B[38;5;241m.\u001B[39meval()  \u001B[38;5;66;03m# Set the model to evaluation mode\u001B[39;00m\n\u001B[1;32m     21\u001B[0m     epoch_test_acc, epoch_test_loss \u001B[38;5;241m=\u001B[39m test(test_dl, model, loss_fn)\n",
      "Cell \u001B[0;32mIn[11], line 17\u001B[0m, in \u001B[0;36mtrain\u001B[0;34m(dataloader, model, loss_fn, optimizer)\u001B[0m\n\u001B[1;32m     15\u001B[0m \u001B[38;5;66;03m# Backpropagation\u001B[39;00m\n\u001B[1;32m     16\u001B[0m optimizer\u001B[38;5;241m.\u001B[39mzero_grad()  \u001B[38;5;66;03m# Zero the gradients\u001B[39;00m\n\u001B[0;32m---> 17\u001B[0m \u001B[43mloss\u001B[49m\u001B[38;5;241;43m.\u001B[39;49m\u001B[43mbackward\u001B[49m\u001B[43m(\u001B[49m\u001B[43m)\u001B[49m        \u001B[38;5;66;03m# Backward pass\u001B[39;00m\n\u001B[1;32m     18\u001B[0m optimizer\u001B[38;5;241m.\u001B[39mstep()       \u001B[38;5;66;03m# Update the model parameters\u001B[39;00m\n\u001B[1;32m     20\u001B[0m \u001B[38;5;66;03m# Record accuracy and loss\u001B[39;00m\n",
      "File \u001B[0;32m~/Desktop/Deep Learning/Potato_Disease_Identification/.venv/lib/python3.8/site-packages/torch/_tensor.py:522\u001B[0m, in \u001B[0;36mTensor.backward\u001B[0;34m(self, gradient, retain_graph, create_graph, inputs)\u001B[0m\n\u001B[1;32m    512\u001B[0m \u001B[38;5;28;01mif\u001B[39;00m has_torch_function_unary(\u001B[38;5;28mself\u001B[39m):\n\u001B[1;32m    513\u001B[0m     \u001B[38;5;28;01mreturn\u001B[39;00m handle_torch_function(\n\u001B[1;32m    514\u001B[0m         Tensor\u001B[38;5;241m.\u001B[39mbackward,\n\u001B[1;32m    515\u001B[0m         (\u001B[38;5;28mself\u001B[39m,),\n\u001B[0;32m   (...)\u001B[0m\n\u001B[1;32m    520\u001B[0m         inputs\u001B[38;5;241m=\u001B[39minputs,\n\u001B[1;32m    521\u001B[0m     )\n\u001B[0;32m--> 522\u001B[0m \u001B[43mtorch\u001B[49m\u001B[38;5;241;43m.\u001B[39;49m\u001B[43mautograd\u001B[49m\u001B[38;5;241;43m.\u001B[39;49m\u001B[43mbackward\u001B[49m\u001B[43m(\u001B[49m\n\u001B[1;32m    523\u001B[0m \u001B[43m    \u001B[49m\u001B[38;5;28;43mself\u001B[39;49m\u001B[43m,\u001B[49m\u001B[43m \u001B[49m\u001B[43mgradient\u001B[49m\u001B[43m,\u001B[49m\u001B[43m \u001B[49m\u001B[43mretain_graph\u001B[49m\u001B[43m,\u001B[49m\u001B[43m \u001B[49m\u001B[43mcreate_graph\u001B[49m\u001B[43m,\u001B[49m\u001B[43m \u001B[49m\u001B[43minputs\u001B[49m\u001B[38;5;241;43m=\u001B[39;49m\u001B[43minputs\u001B[49m\n\u001B[1;32m    524\u001B[0m \u001B[43m\u001B[49m\u001B[43m)\u001B[49m\n",
      "File \u001B[0;32m~/Desktop/Deep Learning/Potato_Disease_Identification/.venv/lib/python3.8/site-packages/torch/autograd/__init__.py:266\u001B[0m, in \u001B[0;36mbackward\u001B[0;34m(tensors, grad_tensors, retain_graph, create_graph, grad_variables, inputs)\u001B[0m\n\u001B[1;32m    261\u001B[0m     retain_graph \u001B[38;5;241m=\u001B[39m create_graph\n\u001B[1;32m    263\u001B[0m \u001B[38;5;66;03m# The reason we repeat the same comment below is that\u001B[39;00m\n\u001B[1;32m    264\u001B[0m \u001B[38;5;66;03m# some Python versions print out the first line of a multi-line function\u001B[39;00m\n\u001B[1;32m    265\u001B[0m \u001B[38;5;66;03m# calls in the traceback and some print out the last line\u001B[39;00m\n\u001B[0;32m--> 266\u001B[0m \u001B[43mVariable\u001B[49m\u001B[38;5;241;43m.\u001B[39;49m\u001B[43m_execution_engine\u001B[49m\u001B[38;5;241;43m.\u001B[39;49m\u001B[43mrun_backward\u001B[49m\u001B[43m(\u001B[49m\u001B[43m  \u001B[49m\u001B[38;5;66;43;03m# Calls into the C++ engine to run the backward pass\u001B[39;49;00m\n\u001B[1;32m    267\u001B[0m \u001B[43m    \u001B[49m\u001B[43mtensors\u001B[49m\u001B[43m,\u001B[49m\n\u001B[1;32m    268\u001B[0m \u001B[43m    \u001B[49m\u001B[43mgrad_tensors_\u001B[49m\u001B[43m,\u001B[49m\n\u001B[1;32m    269\u001B[0m \u001B[43m    \u001B[49m\u001B[43mretain_graph\u001B[49m\u001B[43m,\u001B[49m\n\u001B[1;32m    270\u001B[0m \u001B[43m    \u001B[49m\u001B[43mcreate_graph\u001B[49m\u001B[43m,\u001B[49m\n\u001B[1;32m    271\u001B[0m \u001B[43m    \u001B[49m\u001B[43minputs\u001B[49m\u001B[43m,\u001B[49m\n\u001B[1;32m    272\u001B[0m \u001B[43m    \u001B[49m\u001B[43mallow_unreachable\u001B[49m\u001B[38;5;241;43m=\u001B[39;49m\u001B[38;5;28;43;01mTrue\u001B[39;49;00m\u001B[43m,\u001B[49m\n\u001B[1;32m    273\u001B[0m \u001B[43m    \u001B[49m\u001B[43maccumulate_grad\u001B[49m\u001B[38;5;241;43m=\u001B[39;49m\u001B[38;5;28;43;01mTrue\u001B[39;49;00m\u001B[43m,\u001B[49m\n\u001B[1;32m    274\u001B[0m \u001B[43m\u001B[49m\u001B[43m)\u001B[49m\n",
      "\u001B[0;31mKeyboardInterrupt\u001B[0m: "
     ]
    }
   ],
   "execution_count": 13
  },
  {
   "metadata": {},
   "cell_type": "markdown",
   "source": "## III. Result Visualization",
   "id": "6c753223c90e771a"
  },
  {
   "metadata": {},
   "cell_type": "markdown",
   "source": "#### 1. Loss and Accuracy Graphs",
   "id": "e4fdb063824c53b1"
  },
  {
   "metadata": {},
   "cell_type": "code",
   "outputs": [],
   "execution_count": null,
   "source": [
    "import matplotlib.pyplot as plt\n",
    "# Hide warnings\n",
    "import warnings\n",
    "warnings.filterwarnings(\"ignore\")               # Ignore warning messages\n",
    "plt.rcParams['font.sans-serif']    = ['SimHei'] # To display Chinese labels correctly\n",
    "plt.rcParams['axes.unicode_minus'] = False      # To display negative signs correctly\n",
    "plt.rcParams['figure.dpi']         = 100        # Set resolution\n",
    "\n",
    "epochs_range = range(epochs)\n",
    "\n",
    "plt.figure(figsize=(12, 3))\n",
    "plt.subplot(1, 2, 1)\n",
    "\n",
    "plt.plot(epochs_range, train_acc, label='Training Accuracy')\n",
    "plt.plot(epochs_range, test_acc, label='Test Accuracy')\n",
    "plt.legend(loc='lower right')\n",
    "plt.title('Training and Validation Accuracy')\n",
    "\n",
    "plt.subplot(1, 2, 2)\n",
    "plt.plot(epochs_range, train_loss, label='Training Loss')\n",
    "plt.plot(epochs_range, test_loss, label='Test Loss')\n",
    "plt.legend(loc='upper right')\n",
    "plt.title('Training and Validation Loss')\n",
    "plt.show()"
   ],
   "id": "f0dff51556ddbf00"
  },
  {
   "metadata": {},
   "cell_type": "markdown",
   "source": "#### 2. Predict on Specific Images",
   "id": "5485ae128326884d"
  },
  {
   "metadata": {},
   "cell_type": "code",
   "outputs": [],
   "execution_count": null,
   "source": [
    "from PIL import Image \n",
    "\n",
    "classes = list(total_data.class_to_idx)\n",
    "\n",
    "def predict_one_image(image_path, model, transform, classes):\n",
    "  \n",
    "\n",
    "    test_img = Image.open(image_path).convert('RGB')\n",
    "    plt.imshow(test_img)   \n",
    "\n",
    "    test_img = transform(test_img)\n",
    "    img = test_img.to(device).unsqueeze(0)\n",
    "  \n",
    "\n",
    "    model.eval()\n",
    "    output = model(img)\n",
    "\n",
    "    _,pred = torch.max(output,1)\n",
    "    pred_class = classes[pred]\n",
    "    print(f'predicted result：{pred_class}')"
   ],
   "id": "811277eecc5d821b"
  },
  {
   "metadata": {},
   "cell_type": "markdown",
   "source": "#### 3. Model Evaluation",
   "id": "e525d15363f05208"
  },
  {
   "metadata": {},
   "cell_type": "code",
   "outputs": [],
   "execution_count": null,
   "source": [
    "best_model.eval()\n",
    "epoch_test_acc, epoch_test_loss = test(test_dl, best_model, loss_fn)"
   ],
   "id": "340648a76560e330"
  },
  {
   "metadata": {},
   "cell_type": "code",
   "outputs": [],
   "execution_count": null,
   "source": "epoch_test_acc, epoch_test_loss",
   "id": "acef3b650bd2b9b9"
  }
 ],
 "metadata": {
  "kernelspec": {
   "display_name": "Python 3",
   "language": "python",
   "name": "python3"
  },
  "language_info": {
   "codemirror_mode": {
    "name": "ipython",
    "version": 2
   },
   "file_extension": ".py",
   "mimetype": "text/x-python",
   "name": "python",
   "nbconvert_exporter": "python",
   "pygments_lexer": "ipython2",
   "version": "2.7.6"
  }
 },
 "nbformat": 4,
 "nbformat_minor": 5
}
